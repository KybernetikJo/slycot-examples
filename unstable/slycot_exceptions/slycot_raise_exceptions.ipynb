{
 "cells": [
  {
   "cell_type": "markdown",
   "metadata": {},
   "source": [
    "# Investigate Slycot's Exceptions Mechanism"
   ]
  },
  {
   "cell_type": "code",
   "execution_count": 14,
   "metadata": {},
   "outputs": [
    {
     "name": "stdout",
     "output_type": "stream",
     "text": [
      "0.5.5.dev36+gfb3e780\n"
     ]
    }
   ],
   "source": [
    "import slycot\n",
    "print(slycot.__version__)\n",
    "from warnings import warn\n",
    "\n",
    "from slycot.exceptions import raise_if_slycot_error"
   ]
  },
  {
   "cell_type": "code",
   "execution_count": 15,
   "metadata": {},
   "outputs": [],
   "source": [
    "\n",
    "def fun(info, print_loc_doc=False):\n",
    "    '''Example function\n",
    "\n",
    "    Raises\n",
    "    ------\n",
    "    SlycotParameterError\n",
    "        :info = -i: the i-th argument had an illegal value;\n",
    "        :info = -3: test spezial case;\n",
    "    SlycotArithmeticError\n",
    "        :info = 1: INFO is 1\n",
    "        :info > 1 and info < n:\n",
    "            INFO is {info}, which is between 1 and {n}\n",
    "        :n <= info < m:\n",
    "            {info} is in [{n}, {m:10.2g})!\n",
    "\n",
    "    Warns\n",
    "    -----\n",
    "    SlycotResultWarning\n",
    "        :info >= 120: {info} is too large\n",
    "    SlycotResultWarning\n",
    "        :iwarn == 1: IWARN is 1\n",
    "    '''\n",
    "    n, m = 4, 120.\n",
    "\n",
    "    arg_list = [\"a\", \"b + hidden\", \"c + hidden\"]\n",
    "    loc = locals()\n",
    "    # Warns section is only allowed for list [iwarn, info], if simulates that\n",
    "    doc = (fun.__doc__ if type(info) is list else fun.__doc__[:-144])\n",
    "\n",
    "    if print_loc_doc:\n",
    "        print(loc)\n",
    "        print(doc)\n",
    "    raise_if_slycot_error(info,\n",
    "                        arg_list=[\"a\", \"b\", 3],\n",
    "                        docstring=doc,\n",
    "                        checkvars=loc)"
   ]
  },
  {
   "cell_type": "markdown",
   "metadata": {},
   "source": [
    "## Everything is ok"
   ]
  },
  {
   "cell_type": "code",
   "execution_count": 16,
   "metadata": {},
   "outputs": [],
   "source": [
    "# everything is ok\n",
    "fun(0, print_loc_doc=False)"
   ]
  },
  {
   "cell_type": "code",
   "execution_count": 17,
   "metadata": {},
   "outputs": [
    {
     "name": "stdout",
     "output_type": "stream",
     "text": [
      "{'info': 0, 'print_loc_doc': True, 'n': 4, 'm': 120.0, 'arg_list': ['a', 'b + hidden', 'c + hidden']}\n",
      "Example function\n",
      "\n",
      "    Raises\n",
      "    ------\n",
      "    SlycotParameterError\n",
      "        :info = -i: the i-th argument had an illegal value;\n",
      "        :info = -3: test spezial case;\n",
      "    SlycotArithmeticError\n",
      "        :info = 1: INFO is 1\n",
      "        :info > 1 and info < n:\n",
      "            INFO is {info}, which is between 1 and {n}\n",
      "        :n <= info < m:\n",
      "            {info} is in [{n}, {m:10.2g})!\n",
      "\n",
      "  \n"
     ]
    }
   ],
   "source": [
    "# everything is ok\n",
    "fun(0, print_loc_doc=True)"
   ]
  },
  {
   "cell_type": "markdown",
   "metadata": {},
   "source": [
    "## Errors and Warnings"
   ]
  },
  {
   "cell_type": "code",
   "execution_count": 18,
   "metadata": {},
   "outputs": [
    {
     "ename": "SlycotParameterError",
     "evalue": "The following argument had an illegal value: a",
     "output_type": "error",
     "traceback": [
      "\u001b[0;31m---------------------------------------------------------------------------\u001b[0m",
      "\u001b[0;31mSlycotParameterError\u001b[0m                      Traceback (most recent call last)",
      "Cell \u001b[0;32mIn[18], line 1\u001b[0m\n\u001b[0;32m----> 1\u001b[0m fun(\u001b[39m-\u001b[39;49m\u001b[39m1\u001b[39;49m)\n",
      "Cell \u001b[0;32mIn[15], line 33\u001b[0m, in \u001b[0;36mfun\u001b[0;34m(info, print_loc_doc)\u001b[0m\n\u001b[1;32m     31\u001b[0m     \u001b[39mprint\u001b[39m(loc)\n\u001b[1;32m     32\u001b[0m     \u001b[39mprint\u001b[39m(doc)\n\u001b[0;32m---> 33\u001b[0m raise_if_slycot_error(info,\n\u001b[1;32m     34\u001b[0m                     arg_list\u001b[39m=\u001b[39;49m[\u001b[39m\"\u001b[39;49m\u001b[39ma\u001b[39;49m\u001b[39m\"\u001b[39;49m, \u001b[39m\"\u001b[39;49m\u001b[39mb\u001b[39;49m\u001b[39m\"\u001b[39;49m, \u001b[39m3\u001b[39;49m],\n\u001b[1;32m     35\u001b[0m                     docstring\u001b[39m=\u001b[39;49mdoc,\n\u001b[1;32m     36\u001b[0m                     checkvars\u001b[39m=\u001b[39;49mloc)\n",
      "File \u001b[0;32m~/.venvs/slycot-dev/lib/python3.10/site-packages/slycot/exceptions.py:247\u001b[0m, in \u001b[0;36mraise_if_slycot_error\u001b[0;34m(info, arg_list, docstring, checkvars)\u001b[0m\n\u001b[1;32m    244\u001b[0m \u001b[39mif\u001b[39;00m info \u001b[39m<\u001b[39m \u001b[39m0\u001b[39m \u001b[39mand\u001b[39;00m arg_list:\n\u001b[1;32m    245\u001b[0m     message \u001b[39m=\u001b[39m (\u001b[39m\"\u001b[39m\u001b[39mThe following argument had an illegal value: \u001b[39m\u001b[39m{}\u001b[39;00m\u001b[39m\"\u001b[39m\n\u001b[1;32m    246\u001b[0m                \u001b[39m\"\u001b[39m\u001b[39m\"\u001b[39m\u001b[39m.\u001b[39mformat(arg_list[\u001b[39m-\u001b[39minfo\u001b[39m-\u001b[39m\u001b[39m1\u001b[39m]))\n\u001b[0;32m--> 247\u001b[0m     \u001b[39mraise\u001b[39;00m SlycotParameterError(message, info)\n\u001b[1;32m    249\u001b[0m \u001b[39m# catch all\u001b[39;00m\n\u001b[1;32m    250\u001b[0m \u001b[39mif\u001b[39;00m info \u001b[39m>\u001b[39m \u001b[39m0\u001b[39m:\n",
      "\u001b[0;31mSlycotParameterError\u001b[0m: The following argument had an illegal value: a"
     ]
    }
   ],
   "source": [
    "fun(-1)"
   ]
  },
  {
   "cell_type": "code",
   "execution_count": null,
   "metadata": {},
   "outputs": [
    {
     "ename": "SlycotArithmeticError",
     "evalue": "\nINFO is 1",
     "output_type": "error",
     "traceback": [
      "\u001b[0;31m---------------------------------------------------------------------------\u001b[0m",
      "\u001b[0;31mSlycotArithmeticError\u001b[0m                     Traceback (most recent call last)",
      "Cell \u001b[0;32mIn[8], line 1\u001b[0m\n\u001b[0;32m----> 1\u001b[0m fun(\u001b[39m1\u001b[39;49m)\n",
      "Cell \u001b[0;32mIn[5], line 34\u001b[0m, in \u001b[0;36mfun\u001b[0;34m(info, print_loc_doc)\u001b[0m\n\u001b[1;32m     31\u001b[0m     \u001b[39mprint\u001b[39m(\u001b[39m\"\u001b[39m\u001b[39m\\n\u001b[39;00m\u001b[39m\"\u001b[39m)\n\u001b[1;32m     32\u001b[0m     \u001b[39mprint\u001b[39m(doc)\n\u001b[0;32m---> 34\u001b[0m raise_if_slycot_error(info,\n\u001b[1;32m     35\u001b[0m                     arg_list\u001b[39m=\u001b[39;49m[\u001b[39m\"\u001b[39;49m\u001b[39ma\u001b[39;49m\u001b[39m\"\u001b[39;49m, \u001b[39m\"\u001b[39;49m\u001b[39mb\u001b[39;49m\u001b[39m\"\u001b[39;49m, \u001b[39m3\u001b[39;49m],\n\u001b[1;32m     36\u001b[0m                     docstring\u001b[39m=\u001b[39;49mdoc,\n\u001b[1;32m     37\u001b[0m                     checkvars\u001b[39m=\u001b[39;49mloc)\n",
      "File \u001b[0;32m~/.venvs/slycot-dev/lib/python3.10/site-packages/slycot/exceptions.py:236\u001b[0m, in \u001b[0;36mraise_if_slycot_error\u001b[0;34m(info, arg_list, docstring, checkvars)\u001b[0m\n\u001b[1;32m    234\u001b[0m \u001b[39mif\u001b[39;00m exception \u001b[39mand\u001b[39;00m message:\n\u001b[1;32m    235\u001b[0m     fmessage \u001b[39m=\u001b[39m \u001b[39m'\u001b[39m\u001b[39m\\n\u001b[39;00m\u001b[39m'\u001b[39m \u001b[39m+\u001b[39m message\u001b[39m.\u001b[39mformat(\u001b[39m*\u001b[39m\u001b[39m*\u001b[39mcheckvars)\u001b[39m.\u001b[39mstrip()\n\u001b[0;32m--> 236\u001b[0m     \u001b[39mraise\u001b[39;00m \u001b[39mglobals\u001b[39m()[exception](fmessage, info)\n\u001b[1;32m    238\u001b[0m warning, message \u001b[39m=\u001b[39m _parse_docsection(\u001b[39m\"\u001b[39m\u001b[39mWarns\u001b[39m\u001b[39m\"\u001b[39m, docstring, checkvars)\n\u001b[1;32m    239\u001b[0m \u001b[39mif\u001b[39;00m warning \u001b[39mand\u001b[39;00m message:\n",
      "\u001b[0;31mSlycotArithmeticError\u001b[0m: \nINFO is 1"
     ]
    }
   ],
   "source": [
    "fun(1)"
   ]
  },
  {
   "cell_type": "code",
   "execution_count": null,
   "metadata": {},
   "outputs": [
    {
     "ename": "SlycotArithmeticError",
     "evalue": "\nINFO is 2, which is between 1 and 4",
     "output_type": "error",
     "traceback": [
      "\u001b[0;31m---------------------------------------------------------------------------\u001b[0m",
      "\u001b[0;31mSlycotArithmeticError\u001b[0m                     Traceback (most recent call last)",
      "Cell \u001b[0;32mIn[15], line 1\u001b[0m\n\u001b[0;32m----> 1\u001b[0m fun(\u001b[39m2\u001b[39;49m)\n",
      "Cell \u001b[0;32mIn[12], line 34\u001b[0m, in \u001b[0;36mfun\u001b[0;34m(info, print_loc_doc)\u001b[0m\n\u001b[1;32m     31\u001b[0m     \u001b[39mprint\u001b[39m(\u001b[39m\"\u001b[39m\u001b[39m\\n\u001b[39;00m\u001b[39m\"\u001b[39m)\n\u001b[1;32m     32\u001b[0m     \u001b[39mprint\u001b[39m(doc)\n\u001b[0;32m---> 34\u001b[0m raise_if_slycot_error(info,\n\u001b[1;32m     35\u001b[0m                     arg_list\u001b[39m=\u001b[39;49m[\u001b[39m\"\u001b[39;49m\u001b[39ma\u001b[39;49m\u001b[39m\"\u001b[39;49m, \u001b[39m\"\u001b[39;49m\u001b[39mb\u001b[39;49m\u001b[39m\"\u001b[39;49m, \u001b[39m3\u001b[39;49m],\n\u001b[1;32m     36\u001b[0m                     docstring\u001b[39m=\u001b[39;49mdoc,\n\u001b[1;32m     37\u001b[0m                     checkvars\u001b[39m=\u001b[39;49mloc)\n",
      "File \u001b[0;32m~/.venvs/slycot-dev/lib/python3.10/site-packages/slycot/exceptions.py:236\u001b[0m, in \u001b[0;36mraise_if_slycot_error\u001b[0;34m(info, arg_list, docstring, checkvars)\u001b[0m\n\u001b[1;32m    234\u001b[0m \u001b[39mif\u001b[39;00m exception \u001b[39mand\u001b[39;00m message:\n\u001b[1;32m    235\u001b[0m     fmessage \u001b[39m=\u001b[39m \u001b[39m'\u001b[39m\u001b[39m\\n\u001b[39;00m\u001b[39m'\u001b[39m \u001b[39m+\u001b[39m message\u001b[39m.\u001b[39mformat(\u001b[39m*\u001b[39m\u001b[39m*\u001b[39mcheckvars)\u001b[39m.\u001b[39mstrip()\n\u001b[0;32m--> 236\u001b[0m     \u001b[39mraise\u001b[39;00m \u001b[39mglobals\u001b[39m()[exception](fmessage, info)\n\u001b[1;32m    238\u001b[0m warning, message \u001b[39m=\u001b[39m _parse_docsection(\u001b[39m\"\u001b[39m\u001b[39mWarns\u001b[39m\u001b[39m\"\u001b[39m, docstring, checkvars)\n\u001b[1;32m    239\u001b[0m \u001b[39mif\u001b[39;00m warning \u001b[39mand\u001b[39;00m message:\n",
      "\u001b[0;31mSlycotArithmeticError\u001b[0m: \nINFO is 2, which is between 1 and 4"
     ]
    }
   ],
   "source": [
    "fun(2)"
   ]
  },
  {
   "cell_type": "code",
   "execution_count": null,
   "metadata": {},
   "outputs": [
    {
     "ename": "SlycotError",
     "evalue": "Caught unhandled nonzero INFO value 120",
     "output_type": "error",
     "traceback": [
      "\u001b[0;31m---------------------------------------------------------------------------\u001b[0m",
      "\u001b[0;31mSlycotError\u001b[0m                               Traceback (most recent call last)",
      "Cell \u001b[0;32mIn[17], line 1\u001b[0m\n\u001b[0;32m----> 1\u001b[0m fun(\u001b[39m120\u001b[39;49m)\n",
      "Cell \u001b[0;32mIn[12], line 34\u001b[0m, in \u001b[0;36mfun\u001b[0;34m(info, print_loc_doc)\u001b[0m\n\u001b[1;32m     31\u001b[0m     \u001b[39mprint\u001b[39m(\u001b[39m\"\u001b[39m\u001b[39m\\n\u001b[39;00m\u001b[39m\"\u001b[39m)\n\u001b[1;32m     32\u001b[0m     \u001b[39mprint\u001b[39m(doc)\n\u001b[0;32m---> 34\u001b[0m raise_if_slycot_error(info,\n\u001b[1;32m     35\u001b[0m                     arg_list\u001b[39m=\u001b[39;49m[\u001b[39m\"\u001b[39;49m\u001b[39ma\u001b[39;49m\u001b[39m\"\u001b[39;49m, \u001b[39m\"\u001b[39;49m\u001b[39mb\u001b[39;49m\u001b[39m\"\u001b[39;49m, \u001b[39m3\u001b[39;49m],\n\u001b[1;32m     36\u001b[0m                     docstring\u001b[39m=\u001b[39;49mdoc,\n\u001b[1;32m     37\u001b[0m                     checkvars\u001b[39m=\u001b[39;49mloc)\n",
      "File \u001b[0;32m~/.venvs/slycot-dev/lib/python3.10/site-packages/slycot/exceptions.py:251\u001b[0m, in \u001b[0;36mraise_if_slycot_error\u001b[0;34m(info, arg_list, docstring, checkvars)\u001b[0m\n\u001b[1;32m    249\u001b[0m \u001b[39m# catch all\u001b[39;00m\n\u001b[1;32m    250\u001b[0m \u001b[39mif\u001b[39;00m info \u001b[39m>\u001b[39m \u001b[39m0\u001b[39m:\n\u001b[0;32m--> 251\u001b[0m     \u001b[39mraise\u001b[39;00m SlycotError(\u001b[39m\"\u001b[39m\u001b[39mCaught unhandled nonzero INFO value \u001b[39m\u001b[39m{}\u001b[39;00m\u001b[39m\"\u001b[39m\n\u001b[1;32m    252\u001b[0m                       \u001b[39m\"\u001b[39m\u001b[39m\"\u001b[39m\u001b[39m.\u001b[39mformat(info),\n\u001b[1;32m    253\u001b[0m                       info)\n\u001b[1;32m    254\u001b[0m \u001b[39mif\u001b[39;00m iwarn \u001b[39mis\u001b[39;00m \u001b[39mNone\u001b[39;00m \u001b[39mand\u001b[39;00m \u001b[39m'\u001b[39m\u001b[39miwarn\u001b[39m\u001b[39m'\u001b[39m \u001b[39min\u001b[39;00m checkvars:\n\u001b[1;32m    255\u001b[0m     iwarn \u001b[39m=\u001b[39m checkvars[\u001b[39m'\u001b[39m\u001b[39miwarn\u001b[39m\u001b[39m'\u001b[39m]\n",
      "\u001b[0;31mSlycotError\u001b[0m: Caught unhandled nonzero INFO value 120"
     ]
    }
   ],
   "source": [
    "fun(120)"
   ]
  },
  {
   "cell_type": "code",
   "execution_count": null,
   "metadata": {},
   "outputs": [
    {
     "name": "stderr",
     "output_type": "stream",
     "text": [
      "/home/johannes/.venvs/slycot-dev/lib/python3.10/site-packages/slycot/exceptions.py:241: SlycotResultWarning: \n",
      "IWARN is 1\n",
      "  warn(globals()[warning](fmessage, iwarn, info))\n"
     ]
    }
   ],
   "source": [
    "fun([1,0])"
   ]
  }
 ],
 "metadata": {
  "kernelspec": {
   "display_name": "slycot-dev",
   "language": "python",
   "name": "python3"
  },
  "language_info": {
   "codemirror_mode": {
    "name": "ipython",
    "version": 3
   },
   "file_extension": ".py",
   "mimetype": "text/x-python",
   "name": "python",
   "nbconvert_exporter": "python",
   "pygments_lexer": "ipython3",
   "version": "3.10.12"
  },
  "orig_nbformat": 4
 },
 "nbformat": 4,
 "nbformat_minor": 2
}
