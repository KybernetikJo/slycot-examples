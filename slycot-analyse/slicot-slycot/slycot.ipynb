{
 "cells": [
  {
   "attachments": {},
   "cell_type": "markdown",
   "metadata": {},
   "source": [
    "# Slycot Functions"
   ]
  },
  {
   "attachments": {},
   "cell_type": "markdown",
   "metadata": {},
   "source": [
    "## Functions"
   ]
  },
  {
   "cell_type": "code",
   "execution_count": 1,
   "metadata": {},
   "outputs": [
    {
     "name": "stdout",
     "output_type": "stream",
     "text": [
      "0.5.4\n"
     ]
    }
   ],
   "source": [
    "import slycot\n",
    "print(slycot.__version__)\n",
    "import re\n",
    "from inspect import getmembers, isfunction, isclass"
   ]
  },
  {
   "cell_type": "code",
   "execution_count": 2,
   "metadata": {},
   "outputs": [
    {
     "name": "stdout",
     "output_type": "stream",
     "text": [
      "['ab01nd', 'ab05md', 'ab05nd', 'ab07nd', 'ab08nd', 'ab08nz', 'ab09ad', 'ab09ax', 'ab09bd', 'ab09md', 'ab09nd', 'ab13bd', 'ab13dd', 'ab13ed', 'ab13fd', 'ab13md', 'mb03rd', 'mb03vd', 'mb03vy', 'mb03wd', 'mb05md', 'mb05nd', 'mc01td', 'sb01bd', 'sb02md', 'sb02mt', 'sb02od', 'sb03md', 'sb03md57', 'sb03od', 'sb04md', 'sb04qd', 'sb10ad', 'sb10dd', 'sb10fd', 'sb10hd', 'sg02ad', 'sg03ad', 'sg03bd', 'tb01id', 'tb01pd', 'tb03ad', 'tb04ad', 'tb05ad', 'tc01od', 'tc04ad', 'td04ad', 'test', 'tf01md', 'tf01rd']\n",
      "Currently there are 50 methods implemented.\n"
     ]
    }
   ],
   "source": [
    "slycot_methods1 = [t[0] for t in getmembers(slycot, isfunction)]\n",
    "\n",
    "print(slycot_methods1)\n",
    "print(f\"Currently there are {len(slycot_methods1)} methods implemented.\")"
   ]
  },
  {
   "cell_type": "code",
   "execution_count": 3,
   "metadata": {},
   "outputs": [
    {
     "name": "stdout",
     "output_type": "stream",
     "text": [
      "['ab01nd', 'ab05md', 'ab05nd', 'ab07nd', 'ab08nd', 'ab08nz', 'ab09ad', 'ab09ax', 'ab09bd', 'ab09md', 'ab09nd', 'ab13bd', 'ab13dd', 'ab13ed', 'ab13fd', 'ab13md', 'mb03rd', 'mb03vd', 'mb03vy', 'mb03wd', 'mb05md', 'mb05nd', 'mc01td', 'sb01bd', 'sb02md', 'sb02mt', 'sb02od', 'sb03md', 'sb03md57', 'sb03od', 'sb04md', 'sb04qd', 'sb10ad', 'sb10dd', 'sb10fd', 'sb10hd', 'sg02ad', 'sg03ad', 'sg03bd', 'tb01id', 'tb01pd', 'tb03ad', 'tb04ad', 'tb05ad', 'tc01od', 'tc04ad', 'td04ad', 'tf01md', 'tf01rd']\n",
      "Currently there are 49 methods implemented.\n"
     ]
    }
   ],
   "source": [
    "def get_slycot_method(sly):\n",
    "    can_methods = dir(sly)\n",
    "    r = re.compile(\"[a-z][a-z][0-9][0-9a-z][a-z][a-z]\")\n",
    "    slycot_methods = list(filter(r.match, can_methods)) # Read Note below\n",
    "    return slycot_methods\n",
    "\n",
    "slycot_methods2 = get_slycot_method(slycot)\n",
    "\n",
    "print(slycot_methods2)\n",
    "print(f\"Currently there are {len(slycot_methods2)} methods implemented.\")"
   ]
  },
  {
   "cell_type": "code",
   "execution_count": 7,
   "metadata": {},
   "outputs": [
    {
     "data": {
      "text/plain": [
       "['test']"
      ]
     },
     "execution_count": 7,
     "metadata": {},
     "output_type": "execute_result"
    }
   ],
   "source": [
    "difference = list(set(slycot_methods1) - set(slycot_methods2))\n",
    "difference"
   ]
  },
  {
   "cell_type": "code",
   "execution_count": 12,
   "metadata": {},
   "outputs": [
    {
     "data": {
      "text/plain": [
       "True"
      ]
     },
     "execution_count": 12,
     "metadata": {},
     "output_type": "execute_result"
    }
   ],
   "source": [
    "def is_inslycot_imp(func_name):\n",
    "    slycot_methods_names = get_slycot_method(slycot)\n",
    "    found = func_name in slycot_methods_names\n",
    "    return found\n",
    "\n",
    "is_inslycot_imp(\"ab13bd\")"
   ]
  },
  {
   "attachments": {},
   "cell_type": "markdown",
   "metadata": {},
   "source": [
    "## Classes"
   ]
  },
  {
   "cell_type": "code",
   "execution_count": 5,
   "metadata": {},
   "outputs": [
    {
     "name": "stdout",
     "output_type": "stream",
     "text": [
      "[]\n",
      "Currently there are 0 classes implemented.\n"
     ]
    }
   ],
   "source": [
    "slycot_class1 = [t[0] for t in getmembers(slycot, isclass)]\n",
    "\n",
    "print(slycot_class1)\n",
    "print(f\"Currently there are {len(slycot_class1)} classes implemented.\")"
   ]
  },
  {
   "cell_type": "code",
   "execution_count": null,
   "metadata": {},
   "outputs": [],
   "source": []
  }
 ],
 "metadata": {
  "kernelspec": {
   "display_name": "control",
   "language": "python",
   "name": "python3"
  },
  "language_info": {
   "codemirror_mode": {
    "name": "ipython",
    "version": 3
   },
   "file_extension": ".py",
   "mimetype": "text/x-python",
   "name": "python",
   "nbconvert_exporter": "python",
   "pygments_lexer": "ipython3",
   "version": "3.10.6"
  },
  "orig_nbformat": 4
 },
 "nbformat": 4,
 "nbformat_minor": 2
}
